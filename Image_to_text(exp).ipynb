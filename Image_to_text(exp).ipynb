{
  "nbformat": 4,
  "nbformat_minor": 0,
  "metadata": {
    "colab": {
      "provenance": [],
      "authorship_tag": "ABX9TyNjd9iCGBgEJaklHo0JvwKl",
      "include_colab_link": true
    },
    "kernelspec": {
      "name": "python3",
      "display_name": "Python 3"
    },
    "language_info": {
      "name": "python"
    }
  },
  "cells": [
    {
      "cell_type": "markdown",
      "metadata": {
        "id": "view-in-github",
        "colab_type": "text"
      },
      "source": [
        "<a href=\"https://colab.research.google.com/github/thesareen/Image-to-text-converter-MINI-PROJECT/blob/main/Image_to_text(exp).ipynb\" target=\"_parent\"><img src=\"https://colab.research.google.com/assets/colab-badge.svg\" alt=\"Open In Colab\"/></a>"
      ]
    },
    {
      "cell_type": "markdown",
      "source": [
        "# **IMAGE TO TEXT TO AUDIO CONVERTOR DETECTS THE TEXT IN AN IMAGE AND CONVERTS IT INTO AN AUDIO MESSAGE** "
      ],
      "metadata": {
        "id": "NqlzxYxU7qQY"
      }
    },
    {
      "cell_type": "markdown",
      "source": [
        "OCR OR OPTICAL CHARACTER READER JO EK IMAGE MEI SE CHARACTERS DETECT KRTA HAI"
      ],
      "metadata": {
        "id": "IsKItk7C872U"
      }
    },
    {
      "cell_type": "markdown",
      "source": [
        "# LIBRARY 1:"
      ],
      "metadata": {
        "id": "tBk_E_UW9KFS"
      }
    },
    {
      "cell_type": "code",
      "source": [
        "#OCR: OPTICAL CHARACTER READER\n",
        "#OCR IMAGES MEI SE CHARACTERS DETECT KRTA HAI"
      ],
      "metadata": {
        "id": "vuRBNPr4Cj5Z"
      },
      "execution_count": 8,
      "outputs": []
    },
    {
      "cell_type": "code",
      "source": [
        "#EK WORLWIDE LIBRARY HAI CALLED TESSERACT JO KI OCR KO CONTAIN KRTI HAI AND IMAGE TO TEXT CONVERSION KE LIYE OCR IS MUST HENCE TESSERACT IS MUST"
      ],
      "metadata": {
        "id": "FfWbVxf6Cv9n"
      },
      "execution_count": 9,
      "outputs": []
    },
    {
      "cell_type": "code",
      "source": [
        "#GOOGLE COLAB MEI PYTHON LANGUAGE KI PYTESSERACT LIBRARY NHI HAI. KESE PTA CHLA NHI HAI?\n",
        "#KYUNKI IF YOU TRY IMPORTING PYTESSERACT IT WILL THROW AN ERROR\n",
        "#import pytesseract\n",
        "#so hum worldwide library tesseract ko pehle apne OS mei install krenge and then google colab se use import krenge \n"
      ],
      "metadata": {
        "id": "A80kwyySC9yo"
      },
      "execution_count": 12,
      "outputs": []
    },
    {
      "cell_type": "code",
      "source": [
        "#Generally people use sudo apt for linux servers lekin the same could be used for windows as well to install tesseract library"
      ],
      "metadata": {
        "id": "RA9JNmhsDgsb"
      },
      "execution_count": 13,
      "outputs": []
    },
    {
      "cell_type": "code",
      "source": [
        "# exclamation mark is used to run the code in shell mtlb command line pe\n",
        "#dekho aapka google colab sirf ek editor hai...usmei sirf R and python hi chalte hai \n",
        "#google colab mei tesseract install krne ke liye we have to install tesseract in windows\n",
        "#normally without excalmation sign agar you try installing tesseract to error ayega kyunki voh uss code snippet ko python interpreter ko dega run krne ko and python mei tesseract nhi hai\n",
        "!sudo apt install tesseract-ocr #and also python interpreter doesnt know what is sudo apt\n",
        "#so hum sudo se pehle(without any space) exclamation mark lgayenge , so that it means ki iss code snippet ko command prompt ya shell mei run kro!!"
      ],
      "metadata": {
        "colab": {
          "base_uri": "https://localhost:8080/"
        },
        "id": "mv3Tva2cDr76",
        "outputId": "c9c2be0c-371d-4d1e-d38e-ce4f951a6bb0"
      },
      "execution_count": 17,
      "outputs": [
        {
          "output_type": "stream",
          "name": "stdout",
          "text": [
            "Reading package lists... Done\n",
            "Building dependency tree       \n",
            "Reading state information... Done\n",
            "tesseract-ocr is already the newest version (4.1.1-2build2).\n",
            "0 upgraded, 0 newly installed, 0 to remove and 38 not upgraded.\n"
          ]
        }
      ]
    },
    {
      "cell_type": "code",
      "source": [
        "#TESSERACT EK HUGE LIBRARY HAI, JISME BAHUT SARE FUNCTIONS HAI AND OCR USME SE EK FUNCTION HAI.\n",
        "#APNI STORAGE SPACE BACHANE KE LIYE WE HAVE SPECFIED KI BHAI TU SIRF TESSERACT MEI OCR KO INSTALL KR \n",
        "#ERROR AA SKTI HAI KYUNKI IT MIGHT SAY KI TESSERACT AKELA HE DOESNT KNOW"
      ],
      "metadata": {
        "id": "FokfHSCPE1yA"
      },
      "execution_count": 18,
      "outputs": []
    },
    {
      "cell_type": "code",
      "source": [
        "!sudo apt install tesseract-ocr"
      ],
      "metadata": {
        "id": "xgVn04TrFi_Y"
      },
      "execution_count": null,
      "outputs": []
    },
    {
      "cell_type": "markdown",
      "source": [
        "# LIBRARY 2"
      ],
      "metadata": {
        "id": "-VCKjwhrFpor"
      }
    },
    {
      "cell_type": "code",
      "source": [
        "!pip install pytesseract"
      ],
      "metadata": {
        "colab": {
          "base_uri": "https://localhost:8080/"
        },
        "id": "AkxND-8NFsBe",
        "outputId": "764edf7c-9fb4-4edf-b7e9-36cc25e4009f"
      },
      "execution_count": 19,
      "outputs": [
        {
          "output_type": "stream",
          "name": "stdout",
          "text": [
            "Looking in indexes: https://pypi.org/simple, https://us-python.pkg.dev/colab-wheels/public/simple/\n",
            "Collecting pytesseract\n",
            "  Downloading pytesseract-0.3.10-py3-none-any.whl (14 kB)\n",
            "Requirement already satisfied: packaging>=21.3 in /usr/local/lib/python3.10/dist-packages (from pytesseract) (23.1)\n",
            "Requirement already satisfied: Pillow>=8.0.0 in /usr/local/lib/python3.10/dist-packages (from pytesseract) (8.4.0)\n",
            "Installing collected packages: pytesseract\n",
            "Successfully installed pytesseract-0.3.10\n"
          ]
        }
      ]
    },
    {
      "cell_type": "code",
      "source": [
        "#yaha pe ab hamare OS mei tesseract-ocr hai...usme se we need to install that tesseract library jo particularly python ki hai ie py tesseract\n"
      ],
      "metadata": {
        "id": "qSyV3rmXFyTf"
      },
      "execution_count": null,
      "outputs": []
    },
    {
      "cell_type": "code",
      "source": [
        "#pip is a keyword jo specifically python ki libraries install krta hai"
      ],
      "metadata": {
        "id": "2KUjJ-8nGC1C"
      },
      "execution_count": null,
      "outputs": []
    },
    {
      "cell_type": "code",
      "source": [
        "#why did we run this code in shell?\n",
        "#because pytesseract google colab mei nahi hai"
      ],
      "metadata": {
        "id": "RuGERuDzGJN8"
      },
      "execution_count": null,
      "outputs": []
    },
    {
      "cell_type": "markdown",
      "source": [
        "# LIBRARY 3"
      ],
      "metadata": {
        "id": "8K-cHgIqGSiX"
      }
    },
    {
      "cell_type": "code",
      "source": [
        "!pip install Pillow==9.0.0"
      ],
      "metadata": {
        "colab": {
          "base_uri": "https://localhost:8080/"
        },
        "id": "aD87ixFcGdZY",
        "outputId": "d43b34f8-7949-4868-c7b1-c7f75c1aeac1"
      },
      "execution_count": 1,
      "outputs": [
        {
          "output_type": "stream",
          "name": "stdout",
          "text": [
            "Looking in indexes: https://pypi.org/simple, https://us-python.pkg.dev/colab-wheels/public/simple/\n",
            "Requirement already satisfied: Pillow==9.0.0 in /usr/local/lib/python3.10/dist-packages (9.0.0)\n"
          ]
        }
      ]
    },
    {
      "cell_type": "code",
      "source": [
        "#again ye library bhi google colab mei nahi hai so we will install it"
      ],
      "metadata": {
        "id": "1jzsDNiPG4BF"
      },
      "execution_count": null,
      "outputs": []
    },
    {
      "cell_type": "code",
      "source": [
        "#REMEBER PILLOW HAS CAPITAL P"
      ],
      "metadata": {
        "id": "ga_xpbJxG900"
      },
      "execution_count": null,
      "outputs": []
    },
    {
      "cell_type": "code",
      "source": [
        "#PILLOW EK LIBRARY HAI PYTHON KI (PIP USED) JO IMAGE PROCESSING KRTI HAI"
      ],
      "metadata": {
        "id": "to9W20gPHCJS"
      },
      "execution_count": null,
      "outputs": []
    },
    {
      "cell_type": "code",
      "source": [
        "#Pillow==9.0.0 means pillow version = 9.0.0"
      ],
      "metadata": {
        "id": "qQM-1IllHJe2"
      },
      "execution_count": null,
      "outputs": []
    },
    {
      "cell_type": "markdown",
      "source": [
        "# LIBRARY 4"
      ],
      "metadata": {
        "id": "6_fXpfKnHYYV"
      }
    },
    {
      "cell_type": "code",
      "source": [
        "!pip install gTTS"
      ],
      "metadata": {
        "colab": {
          "base_uri": "https://localhost:8080/"
        },
        "id": "it2SVGObHbLS",
        "outputId": "f56c37e1-d335-4c1d-a686-967a508ff8d3"
      },
      "execution_count": 2,
      "outputs": [
        {
          "output_type": "stream",
          "name": "stdout",
          "text": [
            "Looking in indexes: https://pypi.org/simple, https://us-python.pkg.dev/colab-wheels/public/simple/\n",
            "Collecting gTTS\n",
            "  Downloading gTTS-2.3.2-py3-none-any.whl (28 kB)\n",
            "Requirement already satisfied: requests<3,>=2.27 in /usr/local/lib/python3.10/dist-packages (from gTTS) (2.27.1)\n",
            "Requirement already satisfied: click<8.2,>=7.1 in /usr/local/lib/python3.10/dist-packages (from gTTS) (8.1.3)\n",
            "Requirement already satisfied: urllib3<1.27,>=1.21.1 in /usr/local/lib/python3.10/dist-packages (from requests<3,>=2.27->gTTS) (1.26.15)\n",
            "Requirement already satisfied: certifi>=2017.4.17 in /usr/local/lib/python3.10/dist-packages (from requests<3,>=2.27->gTTS) (2022.12.7)\n",
            "Requirement already satisfied: charset-normalizer~=2.0.0 in /usr/local/lib/python3.10/dist-packages (from requests<3,>=2.27->gTTS) (2.0.12)\n",
            "Requirement already satisfied: idna<4,>=2.5 in /usr/local/lib/python3.10/dist-packages (from requests<3,>=2.27->gTTS) (3.4)\n",
            "Installing collected packages: gTTS\n",
            "Successfully installed gTTS-2.3.2\n"
          ]
        }
      ]
    },
    {
      "cell_type": "code",
      "source": [
        "#gTTS means GOOGLE TEXT TO SPEECH...YE GOOGLE KI PYTHON KI FORM KI LIBRARY HAI(CODED IN PYTHON BY GOOGLE) (FIR BHI GOOGLE COLAB MEI NAHI HAI), YE TEXT KO SPEECH MEI CONVERT KRKE MP3 FILE MEI SAVE KRTI HAI"
      ],
      "metadata": {
        "id": "-9MW7T40HecP"
      },
      "execution_count": 3,
      "outputs": []
    },
    {
      "cell_type": "markdown",
      "source": [
        "# SECOND STEP"
      ],
      "metadata": {
        "id": "O1U1aa0uIBhE"
      }
    },
    {
      "cell_type": "code",
      "source": [
        "import pytesseract"
      ],
      "metadata": {
        "id": "ASzuS0JEIEwR"
      },
      "execution_count": 4,
      "outputs": []
    },
    {
      "cell_type": "code",
      "source": [
        "#upar humne python ki tesseract library install ki thi...now we are accessing it"
      ],
      "metadata": {
        "id": "2h8Hfew4II1U"
      },
      "execution_count": 3,
      "outputs": []
    },
    {
      "cell_type": "markdown",
      "source": [
        "# II"
      ],
      "metadata": {
        "id": "pOmV8QoDIUls"
      }
    },
    {
      "cell_type": "code",
      "source": [
        "from PIL import Image"
      ],
      "metadata": {
        "id": "gVLWObJzIZoP"
      },
      "execution_count": 8,
      "outputs": []
    },
    {
      "cell_type": "code",
      "source": [
        "#pillow library se image module import krenge when we want to load an image , taki image opening,accessing vgera ho sake"
      ],
      "metadata": {
        "id": "RSNiO2QSIb5d"
      },
      "execution_count": null,
      "outputs": []
    },
    {
      "cell_type": "code",
      "source": [
        "#Capital I for image"
      ],
      "metadata": {
        "id": "wJ0Y0UIRJIjB"
      },
      "execution_count": null,
      "outputs": []
    },
    {
      "cell_type": "markdown",
      "source": [
        "# III"
      ],
      "metadata": {
        "id": "2s4g3aiiJK4H"
      }
    },
    {
      "cell_type": "code",
      "source": [
        "import gtts"
      ],
      "metadata": {
        "id": "e6wvrrIOJVRw"
      },
      "execution_count": 10,
      "outputs": []
    },
    {
      "cell_type": "code",
      "source": [
        "#importing google text to speech"
      ],
      "metadata": {
        "id": "sQ023zC0JXrH"
      },
      "execution_count": null,
      "outputs": []
    },
    {
      "cell_type": "code",
      "source": [
        "#remeber gtts , all are small for module and only g is small in library name"
      ],
      "metadata": {
        "id": "giC-kfObJgVi"
      },
      "execution_count": null,
      "outputs": []
    },
    {
      "cell_type": "markdown",
      "source": [
        "# STEP 3"
      ],
      "metadata": {
        "id": "b4x7QkvrJoVh"
      }
    },
    {
      "cell_type": "code",
      "source": [
        "#AB AAP EK IMAGE LOAD KROGE AND USKO OPEN KROGE...TABHI INTERPRETER USE ACCESS KREGA"
      ],
      "metadata": {
        "id": "TfeW8HHHJqu2"
      },
      "execution_count": null,
      "outputs": []
    },
    {
      "cell_type": "code",
      "source": [
        "img=Image.open(\"/content/3.png\")\n"
      ],
      "metadata": {
        "id": "JvZEyuX7J0tx"
      },
      "execution_count": 12,
      "outputs": []
    },
    {
      "cell_type": "code",
      "source": [
        "#image opened"
      ],
      "metadata": {
        "id": "K2jAuXhaKCyZ"
      },
      "execution_count": null,
      "outputs": []
    },
    {
      "cell_type": "markdown",
      "source": [
        "# STEP 4"
      ],
      "metadata": {
        "id": "r1xZpHhQKGdl"
      }
    },
    {
      "cell_type": "code",
      "source": [
        "#FOR RECHECKING THE IMAGE WE LOADED,KI SAHI LOAD HUI HAI YA NAHI...I PRINT IT"
      ],
      "metadata": {
        "id": "FkoPtWHmKJMQ"
      },
      "execution_count": null,
      "outputs": []
    },
    {
      "cell_type": "code",
      "source": [
        "print(img)"
      ],
      "metadata": {
        "colab": {
          "base_uri": "https://localhost:8080/"
        },
        "id": "0L4nzvwDKRUA",
        "outputId": "6aa30c11-da30-41b6-8b6a-dfcc47cec94c"
      },
      "execution_count": 13,
      "outputs": [
        {
          "output_type": "stream",
          "name": "stdout",
          "text": [
            "<PIL.PngImagePlugin.PngImageFile image mode=RGBA size=1080x1080 at 0x7F3E197AF160>\n"
          ]
        }
      ]
    },
    {
      "cell_type": "code",
      "source": [
        "#prints all the characteristics about my image like uska size,colors used etc"
      ],
      "metadata": {
        "id": "QqEP7wA3KZxc"
      },
      "execution_count": null,
      "outputs": []
    },
    {
      "cell_type": "markdown",
      "source": [
        "# STEP 5"
      ],
      "metadata": {
        "id": "d8ByYTJfKiQr"
      }
    },
    {
      "cell_type": "code",
      "source": [
        "result=pytesseract.image_to_string(img)"
      ],
      "metadata": {
        "id": "Rx4B1vgkKkTU"
      },
      "execution_count": 14,
      "outputs": []
    },
    {
      "cell_type": "code",
      "source": [
        "#result name ke variable mei stored"
      ],
      "metadata": {
        "id": "BsVjvGVgKrB_"
      },
      "execution_count": null,
      "outputs": []
    },
    {
      "cell_type": "code",
      "source": [
        "#hum pytesseract ko bol rahe hai ki bhai bracket wali image ko string mei convert krde"
      ],
      "metadata": {
        "id": "9RRopjlRKts8"
      },
      "execution_count": null,
      "outputs": []
    },
    {
      "cell_type": "markdown",
      "source": [
        "# STEP 6"
      ],
      "metadata": {
        "id": "z_1mh_kDK8MG"
      }
    },
    {
      "cell_type": "code",
      "source": [
        "print(result)"
      ],
      "metadata": {
        "colab": {
          "base_uri": "https://localhost:8080/"
        },
        "id": "aVGAzE85K96N",
        "outputId": "0dca1e44-a45a-4c51-9ea0-0c8e7fce0ed6"
      },
      "execution_count": 15,
      "outputs": [
        {
          "output_type": "stream",
          "name": "stdout",
          "text": [
            "   \n",
            "\n",
            "SUNDAY APR 16TH 1 5m onwards\n",
            "\n",
            "(MLSC_TIET\n",
            "ACTF EVENT\n",
            "MUELCC TIET\n",
            "\f\n"
          ]
        }
      ]
    },
    {
      "cell_type": "code",
      "source": [
        "#it will print the stored text in result"
      ],
      "metadata": {
        "id": "fDpriU6NLA57"
      },
      "execution_count": null,
      "outputs": []
    },
    {
      "cell_type": "markdown",
      "source": [
        "# STEP 7"
      ],
      "metadata": {
        "id": "saF36sxiLHXk"
      }
    },
    {
      "cell_type": "code",
      "source": [
        "variable=gtts.gTTS(result)"
      ],
      "metadata": {
        "id": "JIyXNxzWLImC"
      },
      "execution_count": 19,
      "outputs": []
    },
    {
      "cell_type": "code",
      "source": [
        "#now we say ki bhai text to speech convert kar using google text to sppech library(gtts) ka fucntion gTTS iss result namak file ko"
      ],
      "metadata": {
        "id": "PZmWYyYILRfn"
      },
      "execution_count": null,
      "outputs": []
    },
    {
      "cell_type": "markdown",
      "source": [
        "# STEP 8"
      ],
      "metadata": {
        "id": "TwYCI0cZLiPN"
      }
    },
    {
      "cell_type": "code",
      "source": [
        "tts.save(\"hello.mp3\")"
      ],
      "metadata": {
        "id": "kitL9EulLkDc"
      },
      "execution_count": 20,
      "outputs": []
    },
    {
      "cell_type": "code",
      "source": [
        "#similarly tts ka feture hai to save the file so its saving and name is hello and extension is mp3"
      ],
      "metadata": {
        "id": "2kRZNfMjLp8Y"
      },
      "execution_count": null,
      "outputs": []
    }
  ]
}